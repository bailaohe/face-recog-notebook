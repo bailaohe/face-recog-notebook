{
 "cells": [
  {
   "cell_type": "markdown",
   "metadata": {},
   "source": [
    "# OpenCV学习\n",
    "\n",
    "## 什么是OpenCV\n",
    "\n",
    "OpenCV是一个旨在解决计算机视觉问题的Python库。OpenCV最初由Intel在1999年开发，但是后来由Willow Garage资助。它支持很多编程语言，如C++，Python，Java等等。它也支持多种平台，包括Windows，Linux和MacOS。\n",
    "\n",
    "OpenCV Python只是一个与Python一起使用的原始C++库的包装类。通过使用它，所有OpenCV数组结构都能被转化为NumPy数组或从NumPy数组转化而来。这样就可以轻松地将其与其他使用NumPy的库集成。例如，SciPy和Matplotlib等库。\n",
    "\n",
    "## OpenCV的基础操作\n",
    "\n",
    "### 使用OpenCV加载图片"
   ]
  },
  {
   "cell_type": "code",
   "execution_count": null,
   "metadata": {},
   "outputs": [],
   "source": [
    "import cv2  \n",
    "\n",
    "# colored Image\n",
    "img = cv2.imread (\"imgs/test.jpg\", 1)  \n",
    "\n",
    "# Black and White (gray scale)  \n",
    "img_gray = cv2.imread (\"imgs/test.jpg\", 0)\n",
    "\n",
    "# show the shape of the img\n",
    "img.shape"
   ]
  },
  {
   "cell_type": "markdown",
   "metadata": {},
   "source": [
    "### 使用OpenCV调整和显示图片"
   ]
  },
  {
   "cell_type": "code",
   "execution_count": null,
   "metadata": {},
   "outputs": [],
   "source": [
    "# resize the image\n",
    "resized_image = cv2.resize(img, (650,500))\n",
    "\n",
    "# display the image\n",
    "cv2.imshow(\"test\", resized_image)\n",
    "\n",
    "cv2.waitKey(0)\n",
    "cv2.destroyAllWindows()"
   ]
  },
  {
   "cell_type": "markdown",
   "metadata": {},
   "source": [
    "## 使用OpenCV进行人脸检测"
   ]
  },
  {
   "cell_type": "code",
   "execution_count": null,
   "metadata": {},
   "outputs": [],
   "source": [
    "import cv2\n",
    "import os\n",
    "\n",
    "face_classifier = os.path.join(cv2.__path__[0], 'data', 'haarcascade_frontalface_default.xml')\n",
    "\n",
    "# Create a CascadeClassifier Object  \n",
    "face_cascade = cv2.CascadeClassifier(face_classifier)  \n",
    "\n",
    "# Reading the image as it is  \n",
    "img = cv2.imread(\"imgs/test.jpg\") \n",
    "\n",
    "# Reading the image as gray scale image  \n",
    "gray_img = cv2.cvtColor(img,cv2.COLOR_BGR2GRAY)  \n",
    "\n",
    "# Search the co-ordintes of the image  \n",
    "faces = face_cascade.detectMultiScale(gray_img, scaleFactor = 1.05,  minNeighbors=5)  \n",
    "\n",
    "for x,y,w,h in faces:  \n",
    "    img = cv2.rectangle(img, (x,y), (x+w,y+h),(0,255,0),3)  \n",
    "\n",
    "resized = cv2.resize(img, (int(img.shape[1]/2),int(img.shape[0]/2)))   \n",
    "cv2.imshow(\"Gray\", resized)  \n",
    "cv2.waitKey(0)\n",
    "cv2.destroyAllWindows()"
   ]
  },
  {
   "cell_type": "code",
   "execution_count": null,
   "metadata": {},
   "outputs": [],
   "source": []
  }
 ],
 "metadata": {
  "kernelspec": {
   "display_name": "Python 3",
   "language": "python",
   "name": "python3"
  },
  "language_info": {
   "codemirror_mode": {
    "name": "ipython",
    "version": 3
   },
   "file_extension": ".py",
   "mimetype": "text/x-python",
   "name": "python",
   "nbconvert_exporter": "python",
   "pygments_lexer": "ipython3",
   "version": "3.7.0"
  }
 },
 "nbformat": 4,
 "nbformat_minor": 4
}
